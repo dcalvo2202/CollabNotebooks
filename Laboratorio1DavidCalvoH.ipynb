{
  "nbformat": 4,
  "nbformat_minor": 0,
  "metadata": {
    "colab": {
      "provenance": [],
      "authorship_tag": "ABX9TyPyKmGnh8eyrMOzpAMtKSaK",
      "include_colab_link": true
    },
    "kernelspec": {
      "name": "python3",
      "display_name": "Python 3"
    },
    "language_info": {
      "name": "python"
    }
  },
  "cells": [
    {
      "cell_type": "markdown",
      "metadata": {
        "id": "view-in-github",
        "colab_type": "text"
      },
      "source": [
        "<a href=\"https://colab.research.google.com/github/dcalvo2202/CollabNotebooks/blob/main/Laboratorio1DavidCalvoH.ipynb\" target=\"_parent\"><img src=\"https://colab.research.google.com/assets/colab-badge.svg\" alt=\"Open In Colab\"/></a>"
      ]
    },
    {
      "cell_type": "code",
      "execution_count": null,
      "metadata": {
        "colab": {
          "base_uri": "https://localhost:8080/"
        },
        "id": "OxNDo0cdGtXz",
        "outputId": "6e74f8a6-8e1b-411b-9e6f-642d745521f4"
      },
      "outputs": [
        {
          "output_type": "stream",
          "name": "stdout",
          "text": [
            "Ejercicio#1 Calcular Distancia\n",
            "Ingrese la velocidad y el tiempo de la unidad movil\n",
            "Ingrese la velocidad: 70\n",
            "Ingrese el tiempo: 10\n",
            "La distancia es: 700.0\n"
          ]
        }
      ],
      "source": [
        "print(\"Ejercicio#1 Calcular Distancia\")\n",
        "print(\"Ingrese la velocidad y el tiempo de la unidad movil\")\n",
        "v=float(input(\"Ingrese la velocidad: \"))\n",
        "t=float(input(\"Ingrese el tiempo: \"))\n",
        "print(\"La distancia es: \"+str(v*t))\n"
      ]
    },
    {
      "cell_type": "code",
      "source": [
        "print(\"Ejercicio#2 Promedio notas\")\n",
        "nota1=float(input(\"Ingrese la nota 1: \"))\n",
        "nota2=int(input(\"Ingrese la nota 2: \"))\n",
        "nota3=int(input(\"Ingrese la nota 3: \"))\n",
        "print(\"El promedio de notas es: \"+str((nota1+nota2+nota3)/3))"
      ],
      "metadata": {
        "colab": {
          "base_uri": "https://localhost:8080/"
        },
        "id": "aHYGXWPMJNfQ",
        "outputId": "a8cd7d5d-acbb-43a1-c764-b37399caf3f7"
      },
      "execution_count": null,
      "outputs": [
        {
          "output_type": "stream",
          "name": "stdout",
          "text": [
            "Ejercicio#2 Promedio notas\n",
            "Ingrese la nota 1: 90\n",
            "Ingrese la nota 2: 80\n",
            "Ingrese la nota 3: 60\n",
            "El promedio de notas es: 76.66666666666667\n"
          ]
        }
      ]
    },
    {
      "cell_type": "code",
      "source": [
        "print(\"Ejercicio#3 Calcular Puntaje Final\")\n",
        "numRC=float(input(\"Ingrese el numero de respuestas correctas: \"))\n",
        "numRI=float(input(\"Ingrese el numero de respuestas incorrectas: \"))\n",
        "numRB=float(input(\"Ingrese el numero de respuestas en blanco: \"))\n",
        "print(\"El puntaje final es de: \"+str((numRC*3)+(numRI*-1)))"
      ],
      "metadata": {
        "colab": {
          "base_uri": "https://localhost:8080/"
        },
        "id": "gqC6t4PuL9y5",
        "outputId": "8fc46b64-8337-44db-d692-1bb81bfc2c85"
      },
      "execution_count": null,
      "outputs": [
        {
          "output_type": "stream",
          "name": "stdout",
          "text": [
            "Ejercicio#3 Calcular Puntaje Final\n",
            "Ingrese el numero de respuestas correctas: 7\n",
            "Ingrese el numero de respuestas incorrectas: 3\n",
            "Ingrese el numero de respuestas en blanco: 1\n",
            "El puntaje final es de: 18.0\n"
          ]
        }
      ]
    }
  ]
}