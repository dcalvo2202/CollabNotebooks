{
  "nbformat": 4,
  "nbformat_minor": 0,
  "metadata": {
    "colab": {
      "provenance": [],
      "authorship_tag": "ABX9TyMqrrsDJq/xGWktZJIgjJmL",
      "include_colab_link": true
    },
    "kernelspec": {
      "name": "python3",
      "display_name": "Python 3"
    },
    "language_info": {
      "name": "python"
    }
  },
  "cells": [
    {
      "cell_type": "markdown",
      "metadata": {
        "id": "view-in-github",
        "colab_type": "text"
      },
      "source": [
        "<a href=\"https://colab.research.google.com/github/dcalvo2202/CollabNotebooks/blob/main/TareaEjerciciosVideoDavidCalvoH.ipynb\" target=\"_parent\"><img src=\"https://colab.research.google.com/assets/colab-badge.svg\" alt=\"Open In Colab\"/></a>"
      ]
    },
    {
      "cell_type": "code",
      "execution_count": null,
      "metadata": {
        "colab": {
          "base_uri": "https://localhost:8080/"
        },
        "id": "U7GHHiIPamME",
        "outputId": "ceab20cc-02aa-477f-bb51-dceea3a4b495"
      },
      "outputs": [
        {
          "output_type": "stream",
          "name": "stdout",
          "text": [
            "Ejercicio Año Bisiesto\n",
            "Ingrese el año: 2022\n",
            "El año no es bisiesto\n"
          ]
        }
      ],
      "source": [
        "print(\"Ejercicio Año Bisiesto\")\n",
        "anio = int(input(\"Ingrese el año: \"))\n",
        "if (anio % 400 == 0) or (anio % 4 == 0) and (anio % 100 != 0):\n",
        "  print(\"El año es bisiesto\")\n",
        "else:\n",
        "  print(\"El año no es bisiesto\")"
      ]
    },
    {
      "cell_type": "code",
      "source": [
        "print(\"Ejercicio Ciclo While\")\n",
        "c = 0\n",
        "i = 0\n",
        "m = 0\n",
        "while (c < 0) or (i <= 0) or (i >= 100) or (m <= 0):\n",
        "  print(\"Introduce el capital, el interés y el tiempo apropiados: \")\n",
        "  c = int(input(\"Capital: \"))\n",
        "  i = int(input(\"Interés: \"))\n",
        "  m = int(input(\"Tiempo en años: \"))\n",
        "for j in range(m):\n",
        "  c = c*(1 + (i/100))\n",
        "  print(\"Monto del año \", j+1, \":\", c, \"colones\")"
      ],
      "metadata": {
        "colab": {
          "base_uri": "https://localhost:8080/"
        },
        "id": "vGW353aWdDgL",
        "outputId": "ecd79bfb-56c9-43ba-9faf-3376455ed5c6"
      },
      "execution_count": null,
      "outputs": [
        {
          "output_type": "stream",
          "name": "stdout",
          "text": [
            "Ejercicio Ciclo While\n",
            "Introduce el capital, el interés y el tiempo apropiados: \n",
            "Capital: 1000\n",
            "Interés: 10\n",
            "Tiempo en años: 20\n",
            "Monto del año  1 : 1100.0 colones\n",
            "Monto del año  2 : 1210.0 colones\n",
            "Monto del año  3 : 1331.0 colones\n",
            "Monto del año  4 : 1464.1000000000001 colones\n",
            "Monto del año  5 : 1610.5100000000002 colones\n",
            "Monto del año  6 : 1771.5610000000004 colones\n",
            "Monto del año  7 : 1948.7171000000005 colones\n",
            "Monto del año  8 : 2143.5888100000006 colones\n",
            "Monto del año  9 : 2357.9476910000008 colones\n",
            "Monto del año  10 : 2593.742460100001 colones\n",
            "Monto del año  11 : 2853.1167061100014 colones\n",
            "Monto del año  12 : 3138.4283767210018 colones\n",
            "Monto del año  13 : 3452.271214393102 colones\n",
            "Monto del año  14 : 3797.4983358324125 colones\n",
            "Monto del año  15 : 4177.248169415654 colones\n",
            "Monto del año  16 : 4594.97298635722 colones\n",
            "Monto del año  17 : 5054.470284992943 colones\n",
            "Monto del año  18 : 5559.917313492238 colones\n",
            "Monto del año  19 : 6115.909044841462 colones\n",
            "Monto del año  20 : 6727.499949325608 colones\n"
          ]
        }
      ]
    },
    {
      "cell_type": "code",
      "source": [
        "print(\"Ejercicio Cálculo de divisores\")\n",
        "numero = int(input(\"Digite un número: \"))\n",
        "\n",
        "suma = 0;\n",
        "#while numero > 0: \n",
        "for i in range (1, numero+1):\n",
        "  if(numero % i == 0):\n",
        "    suma += i\n",
        "print (suma)\n",
        "#numero = int(input(\"Digite un número: \"))"
      ],
      "metadata": {
        "colab": {
          "base_uri": "https://localhost:8080/"
        },
        "id": "b-TX_QiVgSLa",
        "outputId": "44ca0e70-f888-483e-8b07-91a4af2da82a"
      },
      "execution_count": null,
      "outputs": [
        {
          "output_type": "stream",
          "name": "stdout",
          "text": [
            "Ejercicio Cálculo de divisores\n",
            "Digite un número: 10\n",
            "18\n"
          ]
        }
      ]
    },
    {
      "cell_type": "code",
      "source": [
        "print(\"Ejercicio Vector Media de Temperaturas\")\n",
        "vector = []\n",
        "tam = int(input(\"Ingrese la cantidad de temperaturas que desea agregar: \"))\n",
        "for i in range(tam):\n",
        "  temp = float(input(\"Digite una temperatura: \"))\n",
        "  vector.append(temp)\n",
        "\n",
        "sumaTemp=0\n",
        "\n",
        "for i in range(tam):\n",
        "  sumaTemp += vector[i]\n",
        "promedio = sumaTemp/tam\n",
        "print(\"La temperetura promedio es:\", promedio)"
      ],
      "metadata": {
        "colab": {
          "base_uri": "https://localhost:8080/"
        },
        "id": "EyJNV9nQiZo8",
        "outputId": "932c9e6b-cd9d-4e6c-b976-8f69f3164287"
      },
      "execution_count": null,
      "outputs": [
        {
          "output_type": "stream",
          "name": "stdout",
          "text": [
            "Ejercicio Vector Media de Temperaturas\n",
            "Ingrese la cantidad de temperaturas que desea agregar: 7\n",
            "Digite una temperatura: 35\n",
            "Digite una temperatura: 34\n",
            "Digite una temperatura: 33\n",
            "Digite una temperatura: 32\n",
            "Digite una temperatura: 27\n",
            "Digite una temperatura: 25\n",
            "Digite una temperatura: 21\n",
            "La temperetura promedio es: 29.571428571428573\n"
          ]
        }
      ]
    }
  ]
}